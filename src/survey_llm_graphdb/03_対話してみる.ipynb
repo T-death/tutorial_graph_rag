{
 "cells": [
  {
   "cell_type": "markdown",
   "id": "5552ceb5-a6e0-48c6-83e5-7e57e85efcdb",
   "metadata": {},
   "source": [
    "# 対話してみる"
   ]
  },
  {
   "cell_type": "code",
   "execution_count": 1,
   "id": "736f819e-0c3e-4144-abaf-573328d91d11",
   "metadata": {},
   "outputs": [],
   "source": [
    "from langchain.chains import GraphCypherQAChain\n",
    "from langchain_community.graphs import Neo4jGraph\n",
    "from langchain_community.vectorstores.neo4j_vector import Neo4jVector\n",
    "from langchain_ollama import ChatOllama, OllamaEmbeddings\n",
    "\n",
    "import settings as sets"
   ]
  },
  {
   "cell_type": "markdown",
   "id": "164f655d-8cd7-4e82-aec5-ff427c08bccc",
   "metadata": {},
   "source": [
    "## 定数定義"
   ]
  },
  {
   "cell_type": "code",
   "execution_count": 2,
   "id": "73bb0a6c-290c-4088-b854-ae2a6aafe059",
   "metadata": {},
   "outputs": [],
   "source": [
    "NEO4J_URI: str = sets.NEO4J_URI\n",
    "NEO4J_USER: str = sets.NEO4J_USER\n",
    "NEO4J_PASSWORD: str = sets.NEO4J_PASSWORD\n",
    "\n",
    "MODEL_NAME = 'elyza:8b'"
   ]
  },
  {
   "cell_type": "markdown",
   "id": "5e991d90-7294-4983-80f0-5b811216b0f5",
   "metadata": {},
   "source": [
    "## 単純なベクトルサーチをやってみる"
   ]
  },
  {
   "cell_type": "code",
   "execution_count": 3,
   "id": "92887dc5-7f00-480b-aa04-d00c034e4c7b",
   "metadata": {},
   "outputs": [],
   "source": [
    "user_query = 'SQLインジェクションについて教えて'"
   ]
  },
  {
   "cell_type": "code",
   "execution_count": 4,
   "id": "995a636c-3082-4538-8d09-7fe576d2a318",
   "metadata": {},
   "outputs": [
    {
     "name": "stdout",
     "output_type": "stream",
     "text": [
      "CPU times: user 793 ms, sys: 219 ms, total: 1.01 s\n",
      "Wall time: 5.98 s\n"
     ]
    }
   ],
   "source": [
    "%%time\n",
    "\n",
    "# グラフDB（リレーション含まない、すなわちただのベクトルDBと同等）\n",
    "exist_db = Neo4jVector.from_existing_graph(\n",
    "    embedding=OllamaEmbeddings(model=MODEL_NAME),\n",
    "    node_label='Chunk',\n",
    "    url=NEO4J_URI,\n",
    "    username=NEO4J_USER,\n",
    "    password=NEO4J_PASSWORD,\n",
    "    text_node_properties=['text'],\n",
    "    embedding_node_property='embedding'\n",
    ")"
   ]
  },
  {
   "cell_type": "code",
   "execution_count": 5,
   "id": "7a2b1757-4beb-4add-939b-efd2085a6833",
   "metadata": {},
   "outputs": [
    {
     "data": {
      "text/plain": [
       "[(Document(metadata={'reference_text': '3.4失敗例(不適切なセッション管理)'}, page_content='\\ntext: 「093a2031a79cb4904b1466ee7ad5faaa3afe7b787db66712f407326b213cc2a4」等です。このプログラムではセッションIDにハッシュ値を使っているため、一見、安全そうに見えるかもしれません。しかし、セッションIDの生成方法が第三者に知られた場合光には、第三者がセッションIDを推測できる余地があります。\\n罠のウェブサイトへの誘導等によって、攻撃者は利用者の接続元IPアドレスを入手できますぎ。一方、ポート番号は攻撃者が知り得えない情報です。しかし、接続元ポート番号の範囲は1024から65535であり、利用者のネットワーク環境によってはこの範囲が2万通り程度に限定される場合があります。\\nこのプログラムがオープンソースで開発されている場合、またはソースコードが漏えいしてしまった場合等を想定できます。5ウェブサイトに到達するまでのネットワーク経路によっては、特定のipアドレスとならない場合があります\\n。\\nな'),\n",
       "  0.7720184326171875),\n",
       " (Document(metadata={'reference_text': '2.7携帯ウェブ向けのサイトにおける注意点'}, page_content='\\ntext: 4ここで使用するセッションIDは、第三者に推測されない必要があります。詳しくは18ページの根本的解決4-()を参照してください。60\\nな'),\n",
       "  0.7718048095703125),\n",
       " (Document(metadata={'reference_text': '1.5クロスサイト・スクリプティング'}, page_content='\\ntext: 1.5クロスサイト・スクリプティング2)に該当するウェブアプリケーションの例には、自由度の高い掲示板やブログ等が挙げられます。たとえば、利用者が入力文字の色やサイズを指定できる機能等を実装するために、HTMLテキストの入力を許可する場合があるかもしれません。\\n3)は、1、2)の両者のウェブアプリケーションに共通して必要な対策です。\\n1.5.1HTMLテキストの入力を許可しない場合の対策\\n園根本的解決\\n5-(|\\nウェブページに出力する全ての要素に対して、エスケープ処理を施す。\\nウェブページを構成する要素として、ウェブページの本文やHTMLタグの属性値等に相当する全ての出力要素にエスケープ処理を行います。エスケープ処理には、ウェブページの表示に影響する特別な記号文字(「く<」、「>」、「&」等)を、HTMLエンティティ(「&It:」、「&gt:」、「&amp:」等)に置換する方法があります。また、HTMLタグを出力する場合は、その属性値を必ず「\"」(ダブルクォート)で括るようにします。そして、「\"」で括られた属性値に含まれる「\"」を、HTMLエンティティ「&quot:\\'」にエスケープします'),\n",
       "  0.7661819458007812),\n",
       " (Document(metadata={'reference_text': '3.6失敗例(CSRF)'}, page_content='\\ntext: 3.6失敗例(CSRF)3.6CSRF(クロスサイト・リクエスト・フォージェリ)うの例\\nCSRF(クロスサイト・リクエスト・フォージェリ)の脆弱性を考慮できていない例として、登録情報編集画面のプログラムを紹介します。\\n園PHPによる登録情報編集機能\\n【脆弱な実装】\\n下図は、会員制ウェブサイトにおける、ユーザの会員登録情報を変更する機能の、典型的な画面皿移の例です。ここでは、ユーザが住所を東京都から大阪府に変更するときの操作を例にしています。\\n画面1\\n画面2\\nこのサイトの構成では、まず画面1(view.php)で登録情報を確認し、編集の必要があれば編集ボタンを押して画面2(edit.php)へ進み、画面2で必要な情報を入力して、さらにパスワードを入力した上で、画面3(confirm.php)へ進むようになっています。画面3で入力した情報を確認し、実行ボタンを押して画面4(commit.php)に進むと、ここで登録情報の更新処理が実行されて、その旨が表示されます。\\n画面2で、本人確認のためにパスワードを入力するようになっており、パスワードが正しい場合にしか画面3に進めないようになっています。'),\n",
       "  0.7476806640625)]"
      ]
     },
     "execution_count": 5,
     "metadata": {},
     "output_type": "execute_result"
    }
   ],
   "source": [
    "exist_db.similarity_search_with_relevance_scores(user_query)"
   ]
  },
  {
   "cell_type": "markdown",
   "id": "a5ae59ae-9a0e-4ba4-864f-bf289a6162a7",
   "metadata": {},
   "source": [
    "## グラフDBを活用した回答生成をやってみる"
   ]
  },
  {
   "cell_type": "code",
   "execution_count": 6,
   "id": "7c2e8759-50f7-4457-a075-ec51e245aab9",
   "metadata": {},
   "outputs": [],
   "source": [
    "# グラフDB（リレーション含む）\n",
    "graph_db = Neo4jGraph(\n",
    "    url=NEO4J_URI,\n",
    "    username=NEO4J_USER,\n",
    "    password=NEO4J_PASSWORD\n",
    ")"
   ]
  },
  {
   "cell_type": "code",
   "execution_count": 7,
   "id": "4017c3e2-a6fd-46e6-a00f-dab9fe4b1be6",
   "metadata": {},
   "outputs": [],
   "source": [
    "graph_chain = GraphCypherQAChain.from_llm(\n",
    "    ChatOllama(model=MODEL_NAME, temperature=0.0),\n",
    "    graph=graph_db,\n",
    "    verbose=True,\n",
    "    allow_dangerous_requests=True\n",
    ")"
   ]
  },
  {
   "cell_type": "code",
   "execution_count": 8,
   "id": "2a392773-0222-4c45-a63b-5b88483bab1d",
   "metadata": {},
   "outputs": [
    {
     "name": "stdout",
     "output_type": "stream",
     "text": [
      "\n",
      "\n",
      "\u001b[1m> Entering new GraphCypherQAChain chain...\u001b[0m\n",
      "Generated Cypher:\n",
      "\u001b[32;1m\u001b[1;3mMATCH (t:Topic)-[:reference]->(c:Chunk) RETURN c.text\u001b[0m\n",
      "Full Context:\n",
      "\u001b[32;1m\u001b[1;3m[{'c.text': 'ウェブアプリケーションのセキュリティ実装とウェブサイトの安全性向上のための取り組み\\nIDA独立行政法人情報処理推進機構セキュリティセンター\\n2012年12月\\n本書は、以下のURLからダウンロードできます。「安全なウェブサイトの作り方」\\nおわりに..…参考資料..eoメールヘッダ・インジェクションの例'}, {'c.text': \"プレースホルダに実際の値を割り当てる処理をバインドと呼びます。バインドの方式には、プレースホルダのままSQL文をコンパイルしておき、データベースエンジン側で値を割り当てる方式(静的プレースホルダ)と、アプリケーション側のデータベース接続ライブラリ内で値をエスケーブプ処理してプレースホルダにはめ込む方式(動的プレースホルダ)があります。静的プレースホルダは、SQLのISO/JIS規格では、準備された文(PreparedStatement)と呼ばれます。どちらを用いてもSQLインジェクション脆弱性を解消できますが、原理的にSQLインジェクション脆弱性の可能性がなくなるという点で、静的プレースホルダの方が優ります。詳しくは本書別冊の「安全なSQLの呼び出し方」のプレースホルダの項(3.2節)を参照してください。\\nごも\\nSQL文の組み立てを文字列連結により行う場合は、エスケーブプ処理等を行うデータベースエンジンのAPIlを用いて、SQL文のリテラルを正しく構成する。\\nSQL文の組み立てを文字列連結により行う場合は、SQL文中で可変となる値をリテラル(定数)の形で埋め込みます。値を文字列型として埋め込む場合は、値をシングルクォートで囲んで記述しますが、その際に文字列リテラル内で特別な意味を持つ記号文字をエスケープ処理します(たとえば、「'」つつ「'「」、「\\\\」つ「」等)。値を数値型として埋め込む場合は、数値リテラルであることを確実にする処\"}, {'c.text': '$最新情報は、下記URLを参照してください。\\n脆弱性関連情報に関する届出状況:\\n7\\n|'}, {'c.text': '1.1SQLインジェクション理(数値型へのキャスト等)を行います。\\nこうした処理で具体的に何をすべきかは、データベースエンジンの種類や設定によって異なるため、それにあわせた実装が必要です。データベースエンジンによっては、リテラルを文字列として生成する専用のAPI\\'を提供しているものがありますので、それを利用することをお勧めします。詳しくは、「安全なSQLの呼び出し方」の4.1節を参照してください。\\nなお、この処理は、外部からの入力の影響を受ける値のみに限定して行うのではなく、SQL文を構成する全てのリテラル生成に対して行うべきです。\\n|\\n1-(ii)\\nRn\"ウェブアプリケーションに渡されるパラメータにSQL文を直接指定しない\\n。\\nこれは、いわば「論外」の実装ですが、hiddenパラメータ等にSQL文をそのまま指定するという事例の届出がありましたので、避けるべき実装として紹介します。\\nウェブアプリケーションに渡されるパラメータにSQL文を直接指定する実装は、そのパラメータ値の改変により、データベースの不正利用につながる可能性があります。\\n園保険的対策\\n1-(iii)\\nエラーメッツセージをそのままブラウザに表示しない。'}, {'c.text': 'エラーメッセージの内容に、データベースの種類やエラーの原因、実行エラーを起こしたSQL文等の情報が含まれる場合、これらはSQLインジェクション攻撃につながる有用な情報となりえます。また、エラーメッセージは、攻撃の手がかりを与えるだけでなく、実際に攻撃された結果を表示する情報源として悪用される場合があります。データベースに関連するエラーメッセージは、利用者のブラウザ上に表示させないことをお勧めします。1-(iv)\\n|\\n1-(iv)hn\"データベースアカウントに適切な権限を与える。\\nウェブアプリケーションがデータベースに接続する際に使用するアカウントの権限が必要以上に高い場合、攻撃による被害が深刻化する恐れがあります。ウェブアプリケーションからデータベースに渡す命令文を洗い出し、その命令文の実行に必要な最小限の権限をデータベースアカウントに与えてください。\\n以上の対策により、SQLインジェクション攻撃に対する安全性の向上が期待できます。データベースと連携したウェブアプリケーションの構築や、SQLインジェクションの脆弱性に関する情報については、次の資料も参考にしてください。\\n7′実行環境によっては、エスケープ処理を適切に行わない脆弱性が指摘されているAPIもあります。その場合は修正パッチを適用するか、別の方法を検討して下さい。'}, {'c.text': '8|\\n|\\n画参考URL\\nIPA:安全なSQLの呼び出し方\\nIPA:知っていますか?脆弱性(ぜいじゃくせい)「1.SQLインジェクション」\\nIPA:セキュア・プログラミング講座「SQL注入:#実装における対策」\\nA:セキュア・プログラミング講座「SQL注入:#2設定における対策」D://www.ipa.go.jp/security/awareness/vendor/programmingv2/contents/503.htmlき\\nIPA:情報セキュリティ白書2009第2部「10大脅威攻撃手法の『多様化』が進む」\\nIPA:情報セキュリティ白書2008第2部「10大脅威ますます進む『見えない化』」'}, {'c.text': '1.1SQLインジェクション'}, {'c.text': '1.1SQLインジェクション1.ウェブアプリケーションのセキュリティ実装\\n本章では、ウェブアプリケーションのセキュリティ実装として、下記の脆弱性を取り上げ*、発生しうる脅威、注意が必要なサイト、根本的解決および保険的対策を示します。\\n1)SQLインジェクション\\n2)0Sコマンド・インジェクション\\n3)パス名パラメータの未チェックンディレクトリ・トラバーサル\\n4)セッション管理の不備\\n5)クロスサイト・スクリプティング\\n6)CSRF(クロスサイト・リクエスト・フォージェリ)\\n7)HTTPヘッダ・インジェクション\\n8)メールヘッダ・インジェクション\\n9)アクセス制御や認可制御の欠落\\n*資料の構成上、脆弱性の深刻度や攻撃による影響を考慮して項番を割り当てていますが、これは対策の優先順位を示すものではありません。優先順位は運営するウェブサイトの状況に合わせてご検討ください。\\n5'}, {'c.text': '1.1SQLインジェクション1.1SQLインジェクション\\nデータベースと連携したウェブアプリケーションの多くは、利用者からの入力情報を基にSQL文(データベースへの命令文)を組み立てています。ここで、SQL文の組み立て方法に問題がある場合、攻撃によってデータベースの不正利用をまねく可能性があります。このような問題を「SQLインジェクションの脆弱性」と呼び、問題を悪用した攻撃を、「SQLインジェクション攻撃」と呼びます。\\n画発生しうる脅威\\nSQLインジェクション攻撃により、発生しうる脅威は次のとおりです。\\nデータベースに蓄積された非公開情報の閲覧\\n個人情報の漏えい等\\nデータベースに蓄積された情報の改ざん、消去\\nウェブページの改ざん、パスワード変更、システム停止等\\n認証回避による不正ログイン*\\nログインした利用者に許可されている全ての操作を不正に行われる\\nストアドプロシージャ等を利用した0Sコマンドの実行\\nシステムの乗っ取り、他への攻撃の踏み台としての悪用等\\n回注意が必要なウェブサイトの特徴\\n運営主体やウェブサイトの性質を問わず、データベース?を利用するウェブアプリケーションを設置しているウェブサイトに存在しうる問題です。個人情報等の重要情報をデータベースに格納しているウェブサイトは、特に注意が必要です。'}, {'c.text': '*後述「1.3セッション管理の不備」で解説する「発生しうる脅威」と同じ内容です。5代表的なデータベースエンジンには、MySQL,PostgreSQL,Oracle,MicrosoftSQLServer,DB2等が挙げられます。\\n6'}]\u001b[0m\n",
      "\n",
      "\u001b[1m> Finished chain.\u001b[0m\n"
     ]
    },
    {
     "data": {
      "text/plain": [
       "{'query': 'SQLインジェクションについて教えて',\n",
       " 'result': \"SQLインジェクションとは、Webアプリケーションの入力フォームなどを通じて、悪意のあるユーザーがデータベースに不正な命令を送信し、データを改ざんや漏えいさせる攻撃手法です。\\n\\n具体的には、Webアプリケーションがデータベースとの通信で使用するSQL文に、特別な文字列を埋め込むことで、意図的にデータベースの動作を変更したり、情報を取得したりすることができます。\\n\\n例えば、入力フォームに「' OR 1=1 --」などの特殊な文字列を入力し、Webアプリケーション安全等/tech/sqlinjection.html\"}"
      ]
     },
     "execution_count": 8,
     "metadata": {},
     "output_type": "execute_result"
    }
   ],
   "source": [
    "graph_chain.invoke(user_query)"
   ]
  },
  {
   "cell_type": "code",
   "execution_count": 10,
   "id": "3040b31a-7784-4978-86f3-f38ffe87619b",
   "metadata": {},
   "outputs": [
    {
     "name": "stdout",
     "output_type": "stream",
     "text": [
      "\n",
      "\n",
      "\u001b[1m> Entering new GraphCypherQAChain chain...\u001b[0m\n",
      "Generated Cypher:\n",
      "\u001b[32;1m\u001b[1;3mMATCH (t:Topic {topic:\"WAF\"})-[:reference]->(c:Chunk) RETURN c.text\u001b[0m\n",
      "Full Context:\n",
      "\u001b[32;1m\u001b[1;3m[]\u001b[0m\n",
      "\n",
      "\u001b[1m> Finished chain.\u001b[0m\n"
     ]
    },
    {
     "data": {
      "text/plain": [
       "{'query': 'WAFの効果について例を教えて',\n",
       " 'result': 'WAFは、Web Application Firewallの略で、Webアプリケーション層での攻撃を防ぐためのセキュリティ対策です。'}"
      ]
     },
     "execution_count": 10,
     "metadata": {},
     "output_type": "execute_result"
    }
   ],
   "source": [
    "user_query2 = 'WAFの効果について例を教えて'\n",
    "graph_chain.invoke(user_query2)"
   ]
  },
  {
   "cell_type": "code",
   "execution_count": null,
   "id": "dcec04a6-10e7-4330-ad32-4ae53e0030fc",
   "metadata": {},
   "outputs": [],
   "source": []
  }
 ],
 "metadata": {
  "kernelspec": {
   "display_name": "survey_llm_graph",
   "language": "python",
   "name": "survey_llm_graph"
  },
  "language_info": {
   "codemirror_mode": {
    "name": "ipython",
    "version": 3
   },
   "file_extension": ".py",
   "mimetype": "text/x-python",
   "name": "python",
   "nbconvert_exporter": "python",
   "pygments_lexer": "ipython3",
   "version": "3.11.9"
  }
 },
 "nbformat": 4,
 "nbformat_minor": 5
}
